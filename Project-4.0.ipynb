{
 "cells": [
  {
   "cell_type": "markdown",
   "id": "2f5865db",
   "metadata": {},
   "source": [
    "# Real Calculator"
   ]
  },
  {
   "cell_type": "code",
   "execution_count": 1,
   "id": "4b49d326",
   "metadata": {},
   "outputs": [
    {
     "name": "stdout",
     "output_type": "stream",
     "text": [
      "________________________________________________________________________________________________________________________\n",
      "This is a calculator which is implemented using functions in Python.\n",
      "You can perform operations such as addition, subtraction, multiplication, division, modulus, floor-value and raised-to \n",
      "operations.\n",
      "________________________________________________________________________________________________________________________\n"
     ]
    }
   ],
   "source": [
    "#INTRODUCTION\n",
    "print(\"_\"*120)\n",
    "print(\"This is a calculator which is implemented using functions in Python.\")\n",
    "print(\"You can perform operations such as addition, subtraction, multiplication, division, modulus, floor-value and raised-to \\noperations.\")\n",
    "print(\"_\"*120)"
   ]
  },
  {
   "cell_type": "code",
   "execution_count": 2,
   "id": "5c2ed4b0",
   "metadata": {},
   "outputs": [
    {
     "name": "stdout",
     "output_type": "stream",
     "text": [
      "________________________________________________________________________________________________________________________\n",
      "This is how the calculator works:\n",
      "You need to specify the datatypes of both the numbers.\n",
      "Then you need to input the first number and then the second number when asked to do so in the exact order you need.\n",
      "You then need to select the particular operation you need to perform on those two numbers from the menu.\n",
      "________________________________________________________________________________________________________________________\n"
     ]
    }
   ],
   "source": [
    "#DESCRIPTION\n",
    "print(\"_\"*120)\n",
    "print(\"This is how the calculator works:\")\n",
    "print(\"You need to specify the datatypes of both the numbers.\")\n",
    "print(\"Then you need to input the first number and then the second number when asked to do so in the exact order you need.\")\n",
    "print(\"You then need to select the particular operation you need to perform on those two numbers from the menu.\")\n",
    "print(\"_\"*120)"
   ]
  },
  {
   "cell_type": "code",
   "execution_count": 3,
   "id": "a3430cdc",
   "metadata": {},
   "outputs": [],
   "source": [
    "#DEFINING THE FUNCTIONS\n",
    "#ADDITION\n",
    "def addNums(num1,num2):\n",
    "    print(\"_\"*90)\n",
    "    print(\"The result of addition of {num1} and {num2} is:  \".format(num1=num1,num2=num2))\n",
    "    print(num1 + num2)    #adding the two numbers \n",
    "    print(\"_\"*90)\n",
    "    \n",
    "#SUBTRACTION    \n",
    "def subNums(num1,num2):\n",
    "    print(\"_\"*90)\n",
    "    print(\"The result of subtraction of {num1} and {num2} is:  \".format(num1=num1,num2=num2))\n",
    "    print(num1 - num2)   #subtracting the two numbers\n",
    "    print(\"_\"*90)\n",
    "\n",
    "#MULTIPLICATION    \n",
    "def mulpNums(num1,num2):\n",
    "    print(\"_\"*90)\n",
    "    print(\"The result of multiplication of {num1} and {num2} is:  \".format(num1=num1,num2=num2))\n",
    "    print(num1 * num2)   #multiplying the two numbers\n",
    "    print(\"_\"*90)\n",
    "\n",
    "#DIVISION    \n",
    "def divNums(num1,num2):\n",
    "    print(\"_\"*90)\n",
    "    print(\"The result of division of {num1} and {num2} is:  \".format(num1=num1,num2=num2))\n",
    "    print(num1 / num2)   #dividing the two numbers\n",
    "    print(\"_\"*90)\n",
    "\n",
    "#MODULUS    \n",
    "def modNums(num1,num2):\n",
    "    print(\"_\"*90)\n",
    "    print(\"The result of modulus of {num1} and {num2} is:  \".format(num1=num1,num2=num2))\n",
    "    print(num1 % num2)   #calculating modulus\n",
    "    print(\"_\"*90)\n",
    "\n",
    "#FLOOR-VALUE DIVISION    \n",
    "def floorNums(num1,num2):  \n",
    "    print(\"_\"*90)\n",
    "    print(\"The result of floor value division of {num1} and {num2} is:  \".format(num1=num1,num2=num2))\n",
    "    print(num1 // num2)   #calculating floor value \n",
    "    print(\"_\"*90)\n",
    "\n",
    "def raiseNums(num1,num2):\n",
    "    print(\"_\"*90)\n",
    "    print(\"The result of {num1} raised to {num2} is:  \".format(num1=num1,num2=num2))\n",
    "    print(num1 ** num2)   #calculating num1 raised to num2\n",
    "    print(\"_\"*90)\n"
   ]
  },
  {
   "cell_type": "code",
   "execution_count": 4,
   "id": "349ec66d",
   "metadata": {},
   "outputs": [
    {
     "name": "stdout",
     "output_type": "stream",
     "text": [
      "What are the datatypes of the two numbers?: \n",
      "(A)Both Integers \n",
      "(B)Both Floats \n",
      "(C)One Integer,One Float: C\n",
      "Enter the integer: 34\n",
      "Enter the floating point number: 6.7\n",
      "_____________________________________________\n",
      "Select the operation you want to perform: \n",
      "(1)Addition \n",
      "(2)Subtraction \n",
      "(3)Multiplication \n",
      "(4)Division \n",
      "(5)Modulus \n",
      "(6)Floor Value \n",
      "(7)Raised to operation\n",
      "_____________________________________________\n",
      "3\n",
      "__________________________________________________________________________________________\n",
      "The result of multiplication of 34 and 6.7 is:  \n",
      "227.8\n",
      "__________________________________________________________________________________________\n"
     ]
    }
   ],
   "source": [
    "#TAKING INTEGER INPUTS\n",
    "def intIn():\n",
    "    global num1 \n",
    "    num1 = int(input(\"Enter the fist integer: \"))\n",
    "    global num2 \n",
    "    num2 = int(input(\"Enter the second integer: \"))\n",
    "    \n",
    "#TAKING FLOATING POINT INPUTS\n",
    "def floatIn():\n",
    "    global num1 \n",
    "    num1 = float(input(\"Enter first floating point number: \"))\n",
    "    global num2 \n",
    "    num2 = float(input(\"Enter second floating point number: \"))\n",
    "\n",
    "#TAKING BOTH INTEGER AND FLOATING POINT INPUTS\n",
    "def bothIn():\n",
    "    global num1 \n",
    "    num1 = int(input(\"Enter the integer: \"))\n",
    "    global num2 \n",
    "    num2 = float(input(\"Enter the floating point number: \"))\n",
    "    \n",
    "#TAKING INPUT FROM THE USER\n",
    "numType = str(input(\"What are the datatypes of the two numbers?: \\n(A)Both Integers \\n(B)Both Floats \\n(C)One Integer,One Float: \"))\n",
    "\n",
    "if (numType == \"A\"):\n",
    "    intIn()\n",
    "elif(numType == \"B\"):\n",
    "    floatIn()\n",
    "elif(numType == \"C\"):\n",
    "    bothIn()\n",
    "else:\n",
    "    print(\"Enter correct option.\")\n",
    "\n",
    "#PRINTING THE MENU FOR LIST OF OPERATIONS\n",
    "print(\"_\"*45)\n",
    "print(\"Select the operation you want to perform: \\n(1)Addition \\n(2)Subtraction \\n(3)Multiplication \\n(4)Division \\n(5)Modulus \\n(6)Floor Value \\n(7)Raised to operation\")\n",
    "print(\"_\"*45)\n",
    "\n",
    "userChoice = int(input()) \n",
    "\n",
    "#DEFINING CONDITIONS\n",
    "if (userChoice == 1):\n",
    "    addNums(num1,num2)\n",
    "elif(userChoice == 2):\n",
    "    subNums(num1,num2)\n",
    "elif(userChoice == 3):\n",
    "    mulpNums(num1,num2)\n",
    "elif(userChoice == 4):\n",
    "    divNums(num1,num2)\n",
    "elif(userChoice == 5):\n",
    "    modNums(num1,num2)\n",
    "elif(userChoice == 6):\n",
    "    floorNums(num1,num2)\n",
    "elif(userChoice == 7):\n",
    "    raiseNums(num1,num2)\n",
    "else:\n",
    "    print(\"Enter correct choice.\")\n",
    "        "
   ]
  },
  {
   "cell_type": "code",
   "execution_count": 5,
   "id": "d1ff8642",
   "metadata": {},
   "outputs": [
    {
     "name": "stdout",
     "output_type": "stream",
     "text": [
      "_____________________________________________\n",
      "Have fun with this simple calculator!\n",
      "_____________________________________________\n"
     ]
    }
   ],
   "source": [
    "#CONCLUSION\n",
    "print(\"_\"*45)\n",
    "print(\"Have fun with this simple calculator!\")\n",
    "print(\"_\"*45)"
   ]
  },
  {
   "cell_type": "code",
   "execution_count": null,
   "id": "d4d20ef4",
   "metadata": {},
   "outputs": [],
   "source": []
  }
 ],
 "metadata": {
  "kernelspec": {
   "display_name": "Python 3",
   "language": "python",
   "name": "python3"
  },
  "language_info": {
   "codemirror_mode": {
    "name": "ipython",
    "version": 3
   },
   "file_extension": ".py",
   "mimetype": "text/x-python",
   "name": "python",
   "nbconvert_exporter": "python",
   "pygments_lexer": "ipython3",
   "version": "3.8.8"
  }
 },
 "nbformat": 4,
 "nbformat_minor": 5
}
