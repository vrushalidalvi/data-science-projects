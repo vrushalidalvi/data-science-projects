{
 "cells": [
  {
   "cell_type": "markdown",
   "id": "284efcc4",
   "metadata": {},
   "source": [
    "# Printing multiplication table using while loop"
   ]
  },
  {
   "cell_type": "code",
   "execution_count": 8,
   "id": "4d7283fc",
   "metadata": {},
   "outputs": [
    {
     "name": "stdout",
     "output_type": "stream",
     "text": [
      "__________________________________________________________________________________________\n",
      "While loops are used to iterate over a statement until and unless the given condition is true.\n",
      "This program helps to print multiplication table till 12 of any number that the user inputs.\n",
      "__________________________________________________________________________________________\n"
     ]
    }
   ],
   "source": [
    "#INTRODUCTION\n",
    "print(\"_\"*90)\n",
    "print(\"While loops are used to iterate over a statement until and unless the given condition is true.\")\n",
    "print(\"This program helps to print multiplication table till 12 of any number that the user inputs.\")\n",
    "print(\"_\"*90)"
   ]
  },
  {
   "cell_type": "code",
   "execution_count": 9,
   "id": "f0e21158",
   "metadata": {},
   "outputs": [
    {
     "name": "stdout",
     "output_type": "stream",
     "text": [
      "Enter the number you wish to print the multiplication table of: 9\n",
      "__________________________________________________________________________________________\n",
      "The multiplication table of 9 is: \n",
      "__________________________________________________________________________________________\n",
      "9 * 0 = 0\n",
      "______________________________|\n",
      "9 * 1 = 9\n",
      "______________________________|\n",
      "9 * 2 = 18\n",
      "______________________________|\n",
      "9 * 3 = 27\n",
      "______________________________|\n",
      "9 * 4 = 36\n",
      "______________________________|\n",
      "9 * 5 = 45\n",
      "______________________________|\n",
      "9 * 6 = 54\n",
      "______________________________|\n",
      "9 * 7 = 63\n",
      "______________________________|\n",
      "9 * 8 = 72\n",
      "______________________________|\n",
      "9 * 9 = 81\n",
      "______________________________|\n",
      "9 * 10 = 90\n",
      "______________________________|\n",
      "9 * 11 = 99\n",
      "______________________________|\n",
      "9 * 12 = 108\n",
      "______________________________|\n"
     ]
    }
   ],
   "source": [
    "#TAKING USER INPUT \n",
    "num = int(input(\"Enter the number you wish to print the multiplication table of: \"))\n",
    "\n",
    "#PRE-STATEMENT\n",
    "print(\"_\"*90)\n",
    "print(\"The multiplication table of {num} is: \".format(num=num))\n",
    "print(\"_\"*90)\n",
    "\n",
    "#INITIALIZING i FOR THE LOOP\n",
    "i = 0\n",
    "\n",
    "#WHILE LOOP\n",
    "while (i<13):\n",
    "    result = num * i   #INITIALIZING result VARIABLE\n",
    "    print(str(num) + \" \" + \"*\" + \" \" + str(i) + \" \" + \"=\" + \" \" + str(result))\n",
    "    print(\"_\"*30 + \"|\")\n",
    "    i = i+1     #INCREMENTING THE VALUE OF i"
   ]
  },
  {
   "cell_type": "code",
   "execution_count": 10,
   "id": "981a1233",
   "metadata": {},
   "outputs": [
    {
     "name": "stdout",
     "output_type": "stream",
     "text": [
      "__________________________________________________________________________________________\n",
      "In this way you can print the multiplication table of any number!\n",
      "__________________________________________________________________________________________\n"
     ]
    }
   ],
   "source": [
    "#CONCLUSION\n",
    "print(\"_\"*90)\n",
    "print(\"In this way you can print the multiplication table of any number!\")\n",
    "print(\"_\"*90)"
   ]
  },
  {
   "cell_type": "code",
   "execution_count": null,
   "id": "a1a4a9eb",
   "metadata": {},
   "outputs": [],
   "source": []
  }
 ],
 "metadata": {
  "kernelspec": {
   "display_name": "Python 3",
   "language": "python",
   "name": "python3"
  },
  "language_info": {
   "codemirror_mode": {
    "name": "ipython",
    "version": 3
   },
   "file_extension": ".py",
   "mimetype": "text/x-python",
   "name": "python",
   "nbconvert_exporter": "python",
   "pygments_lexer": "ipython3",
   "version": "3.8.8"
  }
 },
 "nbformat": 4,
 "nbformat_minor": 5
}
