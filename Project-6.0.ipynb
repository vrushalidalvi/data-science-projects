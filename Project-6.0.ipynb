{
 "cells": [
  {
   "cell_type": "markdown",
   "id": "b8e203f1",
   "metadata": {},
   "source": [
    "## BULK RENAMER"
   ]
  },
  {
   "cell_type": "code",
   "execution_count": 2,
   "id": "fd8ff539",
   "metadata": {},
   "outputs": [
    {
     "name": "stdout",
     "output_type": "stream",
     "text": [
      "____________________________________________________________________________________________________\n",
      "This program helps us to rename images in bulk i.e. we can name any number of images in a one go!\n",
      "____________________________________________________________________________________________________\n"
     ]
    }
   ],
   "source": [
    "print(\"_\"*100)\n",
    "print(\"This program helps us to rename images in bulk i.e. we can name any number of images in a one go!\")\n",
    "print(\"_\"*100)"
   ]
  },
  {
   "cell_type": "code",
   "execution_count": 2,
   "id": "b61288d7",
   "metadata": {},
   "outputs": [],
   "source": [
    "#IMPORTING NECESSARY LIBRARIES\n",
    "import os\n",
    "\n",
    "#DEFINING THE FUNCTION\n",
    "def bulk_renamer():\n",
    "    i = 0   #INITIALIZING \n",
    "    path = \"C:\\\\Users\\\\Admin\\\\Pictures\\\\100 images\\\\\"\n",
    "    for fileName in os.listdir(path):\n",
    "        names = \"college_finder {i}.jpg\".format(i=i)\n",
    "        src = path + fileName\n",
    "        destination = path + names\n",
    "        \n",
    "        #RENAMING \n",
    "        os.rename(src , destination)\n",
    "        i = i+1\n",
    "        \n",
    "#SPECIFYING CONDITION AND CALLING THE FUNCTION\n",
    "if __name__ == \"__main__\":\n",
    "    bulk_renamer()"
   ]
  },
  {
   "cell_type": "code",
   "execution_count": 4,
   "id": "5ad68405",
   "metadata": {},
   "outputs": [
    {
     "name": "stdout",
     "output_type": "stream",
     "text": [
      "__________________________________________________________________________________________\n",
      "Check your destination folder to see whether the images have been renamed or not.\n",
      "__________________________________________________________________________________________\n"
     ]
    }
   ],
   "source": [
    "print(\"_\"*90)\n",
    "print(\"Check your destination folder to see whether the images have been renamed or not.\")\n",
    "print(\"_\"*90)"
   ]
  },
  {
   "cell_type": "code",
   "execution_count": null,
   "id": "3de8d24e",
   "metadata": {},
   "outputs": [],
   "source": []
  }
 ],
 "metadata": {
  "kernelspec": {
   "display_name": "Python 3",
   "language": "python",
   "name": "python3"
  },
  "language_info": {
   "codemirror_mode": {
    "name": "ipython",
    "version": 3
   },
   "file_extension": ".py",
   "mimetype": "text/x-python",
   "name": "python",
   "nbconvert_exporter": "python",
   "pygments_lexer": "ipython3",
   "version": "3.8.8"
  }
 },
 "nbformat": 4,
 "nbformat_minor": 5
}
