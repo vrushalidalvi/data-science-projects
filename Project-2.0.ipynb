{
 "cells": [
  {
   "cell_type": "markdown",
   "id": "7e6bef76",
   "metadata": {},
   "source": [
    "# Rock Paper Scissors"
   ]
  },
  {
   "cell_type": "markdown",
   "id": "f8f3b32a",
   "metadata": {},
   "source": [
    " LET'S PLAY ROCK PAPER SCISSORS OUR WAY!"
   ]
  },
  {
   "cell_type": "code",
   "execution_count": 23,
   "id": "c692b387",
   "metadata": {},
   "outputs": [
    {
     "name": "stdout",
     "output_type": "stream",
     "text": [
      "*****RULES OF THE GAME*****\n",
      "\n",
      "__________________________________________________________________________________________\n",
      "\n",
      "The rules are same as the rock paper scissors game we play in the real world: \n",
      "\n",
      "You have to input any one of the three things i.e. 'Rock', 'Paper', 'Scissors' and then wait for the output.\n",
      "You have no idea what the program has selected. \n",
      "Try your luck. HAVE FUN! \n",
      "__________________________________________________________________________________________\n",
      "\n"
     ]
    }
   ],
   "source": [
    "#RULES OF THE GAME \n",
    "print(\"*****RULES OF THE GAME*****\\n\")\n",
    "print(\"_\"*90 + \"\\n\")   #for upper border of rules of the game\n",
    "\n",
    "print(\"The rules are same as the rock paper scissors game we play in the real world: \" + \"\\n\")\n",
    "print(\"You have to input any one of the three things i.e. 'Rock', 'Paper', 'Scissors' and then wait for the output.\\nYou have no idea what the program has selected. \\nTry your luck. HAVE FUN! \")\n",
    "\n",
    "print(\"_\"*90 + \"\\n\")  #for lower border of rules of the game"
   ]
  },
  {
   "cell_type": "markdown",
   "id": "84acac99",
   "metadata": {},
   "source": [
    "LET'S START"
   ]
  },
  {
   "cell_type": "code",
   "execution_count": 20,
   "id": "40ad1b57",
   "metadata": {},
   "outputs": [
    {
     "name": "stdout",
     "output_type": "stream",
     "text": [
      "Enter any one of the three-'Rock', 'Paper', 'Scissors':scissors\n",
      "__________________________________________________________________________________________\n",
      "\n",
      "This was a tie...you can try again.\n",
      "__________________________________________________________________________________________\n",
      "\n"
     ]
    }
   ],
   "source": [
    "#PREDEFINING THE PROGRAM SELECTION\n",
    "compChoice = \"Scissors\"\n",
    "\n",
    "#TAKING INPUT FROM THE USER\n",
    "userInput =str(input(\"Enter any one of the three-'Rock', 'Paper', 'Scissors':\"))\n",
    "\n",
    "#USING IF-ELSE\n",
    "\n",
    "if (userInput == \"Rock\") or (userInput == \"rock\"):   #if user selects rock\n",
    "    print(\"_\"*90 + \"\\n\")\n",
    "    print(\"You have beaten the computer...You score a point!!\")\n",
    "    print(\"_\"*90 + \"\\n\")\n",
    "    \n",
    "elif(userInput == \"Scissors\") or (userInput == \"scissors\"):   #if user selects scissors\n",
    "    print(\"_\"*90 + \"\\n\")\n",
    "    print(\"This was a tie...you can try again.\")\n",
    "    print(\"_\"*90 + \"\\n\")\n",
    "    \n",
    "else:\n",
    "    print(\"_\"*90 + \"\\n\")\n",
    "    print(\"The computer cut you into pieces...we're sorry :(\")    #if user selects paper\n",
    "    print(\"_\"*90 + \"\\n\")"
   ]
  },
  {
   "cell_type": "markdown",
   "id": "7cd7c679",
   "metadata": {},
   "source": [
    "CONCLUDING"
   ]
  },
  {
   "cell_type": "code",
   "execution_count": 21,
   "id": "d39162b2",
   "metadata": {},
   "outputs": [
    {
     "name": "stdout",
     "output_type": "stream",
     "text": [
      "__________________________________________________________________________________________\n",
      "\n",
      "Hope you had fun playing with us :) !!\n",
      "__________________________________________________________________________________________\n",
      "\n"
     ]
    }
   ],
   "source": [
    "print(\"_\"*90 + \"\\n\")\n",
    "print(\"Hope you had fun playing with us :) !!\")\n",
    "print(\"_\"*90 + \"\\n\")"
   ]
  },
  {
   "cell_type": "code",
   "execution_count": null,
   "id": "a9e8053f",
   "metadata": {},
   "outputs": [],
   "source": []
  }
 ],
 "metadata": {
  "kernelspec": {
   "display_name": "Python 3",
   "language": "python",
   "name": "python3"
  },
  "language_info": {
   "codemirror_mode": {
    "name": "ipython",
    "version": 3
   },
   "file_extension": ".py",
   "mimetype": "text/x-python",
   "name": "python",
   "nbconvert_exporter": "python",
   "pygments_lexer": "ipython3",
   "version": "3.8.8"
  }
 },
 "nbformat": 4,
 "nbformat_minor": 5
}
